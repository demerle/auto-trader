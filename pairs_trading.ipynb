{
 "cells": [
  {
   "cell_type": "code",
   "execution_count": null,
   "id": "5cc69d24-29a9-46cd-b372-77b589626fba",
   "metadata": {},
   "outputs": [],
   "source": [
    "import numpy as np\n",
    "import pandas as pd\n",
    "import alpaca_trade_api as tradeapi\n",
    "from alpaca.trading.client import TradingClient\n",
    "from dotenv import load_dotenv\n",
    "import os\n",
    "from chandelier_exit import chandelier_exit"
   ]
  },
  {
   "cell_type": "code",
   "execution_count": null,
   "id": "f918ede7-c48d-4100-aaad-7fcaf8526d21",
   "metadata": {},
   "outputs": [],
   "source": [
    "load_dotenv()\n",
    "\n",
    "ALPACA_KEY = os.getenv(\"ALPACA_KEY\", \"\")\n",
    "ALPACA_SECRET = os.getenv(\"ALPACA_SECRET\", \"\")\n",
    "ALPACA_BASE_URL = os.getenv(\"ALPACA_BASE_URL\", \"\")\n",
    "trading_client = TradingClient(ALPACA_KEY, ALPACA_SECRET, paper=True)\n",
    "\n",
    "\n",
    "SYMBOL = \"SPY\"\n",
    "QTY = 10\n",
    "alpaca = tradeapi.REST(ALPACA_KEY, ALPACA_SECRET, ALPACA_BASE_URL)\n"
   ]
  },
  {
   "cell_type": "code",
   "execution_count": null,
   "id": "b9c6c4dc-b4c1-49cc-acde-3a20ee74e194",
   "metadata": {},
   "outputs": [],
   "source": [
    "\n",
    "\n",
    "def getTestableDataFrameOfSingleStock(symbol=SYMBOL, startDate=\"2025-09-01\", endDate=\"2025-09-30\") -> pd.DataFrame:\n",
    "\n",
    "    #Getting alpaca bars for 5m intervals\n",
    "    df = alpaca.get_bars(symbol, tradeapi.TimeFrame(5, tradeapi.TimeFrameUnit.Minute), startDate, endDate).df\n",
    "    df = df[['open', 'high', 'low', 'close', 'volume']]  # Clean columns\n",
    "\n",
    "    df.index = pd.to_datetime(df.index)\n",
    "    df = df.between_time(\"9:30\", \"16:00\") #Discluding after-hours data\n",
    "\n",
    "    return df\n",
    "\n",
    "df1 = getTestableDataFrameOfSingleStock()\n",
    "df2 = getTestableDataFrameOfSingleStock(symbol=\"IVV\")\n",
    "\n",
    "\n",
    "\n",
    "d={}\n",
    "d['IVV'] = 0\n",
    "d['SPY'] = 0\n",
    "#print(\"len1:\", len(df1))\n",
    "#print(\"len2:\", len(df2))\n",
    "#print(df1)\n",
    "#print(df2)\n",
    "j = 0\n",
    "\n",
    "print(\"type:\", type(df1['close'].iloc[0]))\n",
    "\n",
    "for i in range(len(df2)):\n",
    "\n",
    "    while j < len(df1) and df1.index[j] != df2.index[i]:\n",
    "        print(\"\\ndf1 time:\", df1.index[j])\n",
    "        print(\"df2 time:\", df2.index[i])\n",
    "        print(\"\\nNot equal\\n\")\n",
    "        j+=1\n",
    "\n",
    "    if j >= len(df1) or i >= len(df1):\n",
    "        break\n",
    "    if df1['close'].iloc[j] > df2['close'].iloc[i]:\n",
    "        d['SPY'] += 1\n",
    "    elif df1['close'].iloc[j] == df2['close'].iloc[i]:\n",
    "        continue\n",
    "    else:\n",
    "        d['IVV'] += 1\n",
    "    j+=1\n",
    "\n",
    "print(d)"
   ]
  }
 ],
 "metadata": {
  "kernelspec": {
   "display_name": "Python 3 (ipykernel)",
   "language": "python",
   "name": "python3"
  },
  "language_info": {
   "codemirror_mode": {
    "name": "ipython",
    "version": 3
   },
   "file_extension": ".py",
   "mimetype": "text/x-python",
   "name": "python",
   "nbconvert_exporter": "python",
   "pygments_lexer": "ipython3",
   "version": "3.12.11"
  }
 },
 "nbformat": 4,
 "nbformat_minor": 5
}
